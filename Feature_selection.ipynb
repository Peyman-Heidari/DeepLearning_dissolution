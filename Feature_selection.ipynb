{
 "cells": [
  {
   "cell_type": "code",
   "execution_count": 1,
   "metadata": {
    "collapsed": false
   },
   "outputs": [
    {
     "name": "stdout",
     "output_type": "stream",
     "text": [
      "start\n",
      "0.734557950297\n",
      "[('MajorAnisotropy x', -8.1905956485529935e-05), ('MajorAnisotropy 10^x', -1.1877676293850538e-05), ('MajorAnisotropy x^-1', -1.1865724214617288e-05), ('MajorAnisotropy x^0.5', -1.926421607375095e-05), ('MinAnisotropy x^4', -1.4920050942737468e-05), ('MinAnisotropy 10^x', 6.6840741877198659e-06), ('MinAnisotropy x^-1', 1.3552981231947689e-05), ('MinAnisotropy log10(x)', -4.1325812346294495e-05), ('pH 10^x', 2.6166576102189906e-05), ('pH log10(x)', -0.00022222830494524767), ('MagnesitePercentageInitial x^4', -1.9011398268431941e-05), ('MagnesitePercentageInitial x^-1', -9.8014517966646747e-05), ('MagnesitePercentageInitial log10(x)', 8.4390181694504586e-05), ('MgPerm 10^x', -0.054625684979449224), ('MgPerm 10^-x', 0.00027220814981833359), ('MgPerm x^-1', -0.05465909112599366), ('MgPerm ln(x)', 1.9090715961862041e-13), ('kratio x', 0.00012693053598418854), ('kratio x^0.5', 0.00016947194694335942)]\n",
      "0.732740249367\n",
      "[(('MajorAnisotropy x', -8.1905956485529935e-05), -6.9096265105859158e-05), (('MajorAnisotropy 10^x', -1.1877676293850538e-05), -1.4254572446222633e-05), (('MajorAnisotropy x^-1', -1.1865724214617288e-05), -1.4132444390438991e-05), (('MajorAnisotropy x^0.5', -1.926421607375095e-05), -3.4771813208559963e-05), (('MinAnisotropy x^4', -1.4920050942737468e-05), -1.5834177939305757e-05), (('MinAnisotropy 10^x', 6.6840741877198659e-06), 7.7002765456098058e-06), (('MinAnisotropy x^-1', 1.3552981231947689e-05), 1.6237374551466584e-05), (('MinAnisotropy log10(x)', -4.1325812346294495e-05), -3.7848725893784284e-05), (('pH 10^x', 2.6166576102189906e-05), 2.7829054434208308e-05), (('pH log10(x)', -0.00022222830494524767), -0.00022389325765007382), (('MagnesitePercentageInitial x^4', -1.9011398268431941e-05), -2.4012616577005977e-05), (('MagnesitePercentageInitial x^-1', -9.8014517966646747e-05), -8.4051242881594257e-05), (('MagnesitePercentageInitial log10(x)', 8.4390181694504586e-05), 0.00010222951252601722), (('MgPerm 10^x', -0.054625684979449224), -4.0899473537140377e-05), (('MgPerm 10^-x', 0.00027220814981833359), 4.0899341502655896e-05), (('MgPerm x^-1', -0.05465909112599366), 4.0915529255817243e-05), (('MgPerm ln(x)', 1.9090715961862041e-13), -4.0915529255816578e-05), (('kratio x', 0.00012693053598418854), 4.4506015796196867e-05), (('kratio x^0.5', 0.00016947194694335942), 0.00019897961886561038)]\n"
     ]
    }
   ],
   "source": [
    "from sklearn import linear_model\n",
    "import matplotlib.pyplot as plt\n",
    "import usefulFuncs as uf\n",
    "import pandas as pd\n",
    "import sklearn.preprocessing as preprocessing\n",
    "import numpy as np\n",
    "import pickle\n",
    "\n",
    "train = pd.read_csv('train.csv')\n",
    "test = pd.read_csv('test.csv')\n",
    "\n",
    "\n",
    "\n",
    " \n",
    "X_train=train[['MajorAnisotropy','MinAnisotropy','pH','MagnesitePercentageInitial','MgPerm','kratio']]#select out variables that we are interested in\\n\",\n",
    "y_train=train['poriosity_change']\n",
    "   \n",
    "X_test=test[['MajorAnisotropy','MinAnisotropy','pH','MagnesitePercentageInitial','MgPerm', 'kratio']]#select out variables that we are interested in\\n\",\n",
    "y_test=test['poriosity_change']\n",
    "\n",
    "\n",
    "X_train,X_trainNames=uf.xTransform(X_train)\n",
    "X_test,X_testNames=uf.xTransform(X_test)\n",
    "\n",
    "print('start')\n",
    "for i in range(X_test.shape[0]):\n",
    "    for j in range(X_test.shape[1]):\n",
    "        if X_test[i,j]>1.7e308 or X_test[i,j]<-1.7e308 or np.isnan(X_test[i,j]) or np.isinf(X_test[i,j]):\n",
    "            print(i,j)\n",
    "\n",
    "\n",
    "\n",
    "preproc = preprocessing.StandardScaler()\n",
    "preproc = preproc.fit(X_train)\n",
    "X_train = preproc.transform(X_train)\n",
    "X_test = preproc.transform(X_test)\n",
    "#LASSO\n",
    "model = linear_model.LassoCV(fit_intercept=False,max_iter=100000)\n",
    "model = model.fit(X_train, y_train)\n",
    "score = model.score(X_test, y_test)\n",
    "lassocv_alpha = model.alpha_\n",
    "print(score)\n",
    "display=[i for i in zip(X_trainNames,model.coef_) if i[1]!=0.0]\n",
    "print(display) \n",
    "\n",
    "Lresults=[i for i in range(len(model.coef_)) if model.coef_[i]!=0.0]\n",
    "newxtrain= X_train[:,Lresults]\n",
    "newxtest= X_test[:,Lresults]\n",
    "\n",
    "\n",
    "\n",
    "#Linear using selected parameters\n",
    "Model= linear_model.LinearRegression()\n",
    "Model= Model.fit(newxtrain,y_train)\n",
    "ScoreL= Model.score(newxtest,y_test)\n",
    "print(ScoreL)\n",
    "displayLinear=[i for i in zip(display,Model.coef_)]\n",
    "print(displayLinear)\n",
    "with open('objs.pickle', 'wb') as f:  # Python 3: open(..., 'wb')\n",
    "    pickle.dump([newxtrain, newxtest, y_train, y_test], f)\n"
   ]
  },
  {
   "cell_type": "code",
   "execution_count": null,
   "metadata": {
    "collapsed": true
   },
   "outputs": [],
   "source": []
  }
 ],
 "metadata": {
  "anaconda-cloud": {},
  "kernelspec": {
   "display_name": "Python [Root]",
   "language": "python",
   "name": "Python [Root]"
  },
  "language_info": {
   "codemirror_mode": {
    "name": "ipython",
    "version": 3
   },
   "file_extension": ".py",
   "mimetype": "text/x-python",
   "name": "python",
   "nbconvert_exporter": "python",
   "pygments_lexer": "ipython3",
   "version": "3.5.2"
  }
 },
 "nbformat": 4,
 "nbformat_minor": 1
}
